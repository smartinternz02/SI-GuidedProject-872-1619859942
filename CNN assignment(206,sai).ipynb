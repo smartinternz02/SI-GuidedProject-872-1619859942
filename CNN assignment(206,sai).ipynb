{
 "cells": [
  {
   "cell_type": "code",
   "execution_count": 27,
   "metadata": {},
   "outputs": [],
   "source": [
    "from tensorflow.keras.models import Sequential\n",
    "from tensorflow.keras.layers import Dense\n",
    "from tensorflow.keras.layers import Convolution2D\n",
    "from tensorflow.keras.layers import MaxPooling2D\n",
    "from tensorflow.keras.layers import Flatten"
   ]
  },
  {
   "cell_type": "code",
   "execution_count": 28,
   "metadata": {},
   "outputs": [],
   "source": [
    "from keras.preprocessing.image import ImageDataGenerator\n",
    "train_datagen=ImageDataGenerator(rescale=1./255,shear_range=0.2,zoom_range=0.2,horizontal_flip=True)\n",
    "test_datagen=ImageDataGenerator(rescale=1./255)"
   ]
  },
  {
   "cell_type": "code",
   "execution_count": 29,
   "metadata": {},
   "outputs": [
    {
     "name": "stdout",
     "output_type": "stream",
     "text": [
      "Found 1677 images belonging to 5 classes.\n",
      "Found 750 images belonging to 5 classes.\n"
     ]
    }
   ],
   "source": [
    "x_train=train_datagen.flow_from_directory(r\"E:\\geethanjaliexternship\\flowers\\flowers\\trainset\",target_size = (64,64) , batch_size = 32 , class_mode = \"categorical\")\n",
    "x_test=test_datagen.flow_from_directory(r\"E:\\geethanjaliexternship\\flowers\\flowers\\testset\",target_size = (64,64) , batch_size = 32 , class_mode = \"categorical\")"
   ]
  },
  {
   "cell_type": "code",
   "execution_count": 30,
   "metadata": {},
   "outputs": [],
   "source": [
    "model=Sequential()"
   ]
  },
  {
   "cell_type": "code",
   "execution_count": 31,
   "metadata": {},
   "outputs": [],
   "source": [
    "model.add(Convolution2D(32,(3,3),input_shape=(64,64,3),activation=\"relu\"))"
   ]
  },
  {
   "cell_type": "code",
   "execution_count": 32,
   "metadata": {},
   "outputs": [],
   "source": [
    "model.add(MaxPooling2D(2,2))"
   ]
  },
  {
   "cell_type": "code",
   "execution_count": 33,
   "metadata": {},
   "outputs": [],
   "source": [
    "model.add(Flatten())"
   ]
  },
  {
   "cell_type": "code",
   "execution_count": 34,
   "metadata": {},
   "outputs": [],
   "source": [
    "model.add(Dense(units=512,activation=\"relu\",kernel_initializer=\"random_uniform\"))"
   ]
  },
  {
   "cell_type": "code",
   "execution_count": 35,
   "metadata": {},
   "outputs": [],
   "source": [
    "model.add(Dense(units=5,activation=\"softmax\",kernel_initializer=\"random_uniform\"))"
   ]
  },
  {
   "cell_type": "code",
   "execution_count": 10,
   "metadata": {},
   "outputs": [],
   "source": [
    "model.compile(\"sgd\",loss=\"categorical_crossentropy\",metrics=[\"accuracy\"])"
   ]
  },
  {
   "cell_type": "code",
   "execution_count": 11,
   "metadata": {
    "scrolled": true
   },
   "outputs": [
    {
     "name": "stderr",
     "output_type": "stream",
     "text": [
      "C:\\Users\\DELL\\Anaconda3\\lib\\site-packages\\tensorflow\\python\\keras\\engine\\training.py:1844: UserWarning: `Model.fit_generator` is deprecated and will be removed in a future version. Please use `Model.fit`, which supports generators.\n",
      "  warnings.warn('`Model.fit_generator` is deprecated and '\n"
     ]
    },
    {
     "name": "stdout",
     "output_type": "stream",
     "text": [
      "Epoch 1/200\n",
      "45/45 [==============================] - 46s 1s/step - loss: 1.5968 - accuracy: 0.2547 - val_loss: 1.4716 - val_accuracy: 0.3719\n",
      "Epoch 2/200\n",
      "45/45 [==============================] - 23s 519ms/step - loss: 1.4487 - accuracy: 0.3558 - val_loss: 1.3712 - val_accuracy: 0.4078\n",
      "Epoch 3/200\n",
      "45/45 [==============================] - 16s 361ms/step - loss: 1.3322 - accuracy: 0.4310 - val_loss: 1.3627 - val_accuracy: 0.4203\n",
      "Epoch 4/200\n",
      "45/45 [==============================] - 13s 279ms/step - loss: 1.2555 - accuracy: 0.4672 - val_loss: 1.2953 - val_accuracy: 0.4531\n",
      "Epoch 5/200\n",
      "45/45 [==============================] - 12s 257ms/step - loss: 1.2348 - accuracy: 0.4742 - val_loss: 1.3084 - val_accuracy: 0.4422\n",
      "Epoch 6/200\n",
      "45/45 [==============================] - 12s 258ms/step - loss: 1.2033 - accuracy: 0.4909 - val_loss: 1.2517 - val_accuracy: 0.4688\n",
      "Epoch 7/200\n",
      "45/45 [==============================] - 11s 252ms/step - loss: 1.1921 - accuracy: 0.4857 - val_loss: 1.2480 - val_accuracy: 0.4625\n",
      "Epoch 8/200\n",
      "45/45 [==============================] - 11s 253ms/step - loss: 1.1749 - accuracy: 0.5137 - val_loss: 1.3248 - val_accuracy: 0.4172\n",
      "Epoch 9/200\n",
      "45/45 [==============================] - 12s 260ms/step - loss: 1.1441 - accuracy: 0.5234 - val_loss: 1.2331 - val_accuracy: 0.4688\n",
      "Epoch 10/200\n",
      "45/45 [==============================] - 11s 250ms/step - loss: 1.1122 - accuracy: 0.5403 - val_loss: 1.2712 - val_accuracy: 0.4391\n",
      "Epoch 11/200\n",
      "45/45 [==============================] - 12s 260ms/step - loss: 1.0905 - accuracy: 0.5183 - val_loss: 1.2812 - val_accuracy: 0.4313\n",
      "Epoch 12/200\n",
      "45/45 [==============================] - 12s 256ms/step - loss: 1.0835 - accuracy: 0.5558 - val_loss: 1.2344 - val_accuracy: 0.4656\n",
      "Epoch 13/200\n",
      "45/45 [==============================] - 12s 256ms/step - loss: 1.0885 - accuracy: 0.5734 - val_loss: 1.2414 - val_accuracy: 0.5047\n",
      "Epoch 14/200\n",
      "45/45 [==============================] - 11s 255ms/step - loss: 1.1066 - accuracy: 0.5346 - val_loss: 1.2486 - val_accuracy: 0.4578\n",
      "Epoch 15/200\n",
      "45/45 [==============================] - 12s 265ms/step - loss: 1.0118 - accuracy: 0.5988 - val_loss: 1.1755 - val_accuracy: 0.5156\n",
      "Epoch 16/200\n",
      "45/45 [==============================] - 12s 262ms/step - loss: 1.0569 - accuracy: 0.5664 - val_loss: 1.2607 - val_accuracy: 0.4844\n",
      "Epoch 17/200\n",
      "45/45 [==============================] - 12s 263ms/step - loss: 1.0029 - accuracy: 0.6075 - val_loss: 1.2803 - val_accuracy: 0.4688\n",
      "Epoch 18/200\n",
      "45/45 [==============================] - 12s 258ms/step - loss: 0.9708 - accuracy: 0.6086 - val_loss: 1.1816 - val_accuracy: 0.5094\n",
      "Epoch 19/200\n",
      "45/45 [==============================] - 12s 257ms/step - loss: 0.9980 - accuracy: 0.6102 - val_loss: 1.2221 - val_accuracy: 0.5141\n",
      "Epoch 20/200\n",
      "45/45 [==============================] - 11s 251ms/step - loss: 0.9974 - accuracy: 0.5959 - val_loss: 1.2262 - val_accuracy: 0.5109\n",
      "Epoch 21/200\n",
      "45/45 [==============================] - 11s 255ms/step - loss: 1.0017 - accuracy: 0.6184 - val_loss: 1.1799 - val_accuracy: 0.5297\n",
      "Epoch 22/200\n",
      "45/45 [==============================] - 12s 260ms/step - loss: 0.9882 - accuracy: 0.6263 - val_loss: 1.3156 - val_accuracy: 0.5156\n",
      "Epoch 23/200\n",
      "45/45 [==============================] - 12s 262ms/step - loss: 1.0062 - accuracy: 0.6244 - val_loss: 1.2082 - val_accuracy: 0.5234\n",
      "Epoch 24/200\n",
      "45/45 [==============================] - 12s 256ms/step - loss: 0.9836 - accuracy: 0.6135 - val_loss: 1.2496 - val_accuracy: 0.4812\n",
      "Epoch 25/200\n",
      "45/45 [==============================] - 13s 284ms/step - loss: 0.9993 - accuracy: 0.6099 - val_loss: 1.2212 - val_accuracy: 0.5063\n",
      "Epoch 26/200\n",
      "45/45 [==============================] - 11s 254ms/step - loss: 0.9481 - accuracy: 0.6198 - val_loss: 1.1943 - val_accuracy: 0.5172\n",
      "Epoch 27/200\n",
      "45/45 [==============================] - 12s 261ms/step - loss: 0.9552 - accuracy: 0.6343 - val_loss: 1.2935 - val_accuracy: 0.4766\n",
      "Epoch 28/200\n",
      "45/45 [==============================] - 11s 256ms/step - loss: 0.9556 - accuracy: 0.6179 - val_loss: 1.2218 - val_accuracy: 0.5109\n",
      "Epoch 29/200\n",
      "45/45 [==============================] - 12s 257ms/step - loss: 0.9424 - accuracy: 0.6408 - val_loss: 1.2312 - val_accuracy: 0.5172\n",
      "Epoch 30/200\n",
      "45/45 [==============================] - 12s 258ms/step - loss: 0.8894 - accuracy: 0.6563 - val_loss: 1.2499 - val_accuracy: 0.5109\n",
      "Epoch 31/200\n",
      "45/45 [==============================] - 12s 266ms/step - loss: 0.8951 - accuracy: 0.6476 - val_loss: 1.2174 - val_accuracy: 0.5094\n",
      "Epoch 32/200\n",
      "45/45 [==============================] - 12s 269ms/step - loss: 0.8933 - accuracy: 0.6530 - val_loss: 1.2432 - val_accuracy: 0.5016\n",
      "Epoch 33/200\n",
      "45/45 [==============================] - 11s 250ms/step - loss: 0.9149 - accuracy: 0.6506 - val_loss: 1.2531 - val_accuracy: 0.4984\n",
      "Epoch 34/200\n",
      "45/45 [==============================] - 11s 254ms/step - loss: 0.8284 - accuracy: 0.6849 - val_loss: 1.2121 - val_accuracy: 0.5297\n",
      "Epoch 35/200\n",
      "45/45 [==============================] - 11s 250ms/step - loss: 0.8745 - accuracy: 0.6646 - val_loss: 1.1608 - val_accuracy: 0.5656\n",
      "Epoch 36/200\n",
      "45/45 [==============================] - 12s 259ms/step - loss: 0.8328 - accuracy: 0.6966 - val_loss: 1.2346 - val_accuracy: 0.5141\n",
      "Epoch 37/200\n",
      "45/45 [==============================] - 11s 255ms/step - loss: 0.8224 - accuracy: 0.6958 - val_loss: 1.2345 - val_accuracy: 0.5297\n",
      "Epoch 38/200\n",
      "45/45 [==============================] - 11s 254ms/step - loss: 0.8400 - accuracy: 0.6852 - val_loss: 1.3498 - val_accuracy: 0.5109\n",
      "Epoch 39/200\n",
      "45/45 [==============================] - 12s 266ms/step - loss: 0.8296 - accuracy: 0.6960 - val_loss: 1.2502 - val_accuracy: 0.5109\n",
      "Epoch 40/200\n",
      "45/45 [==============================] - 12s 256ms/step - loss: 0.8357 - accuracy: 0.6846 - val_loss: 1.1984 - val_accuracy: 0.5391\n",
      "Epoch 41/200\n",
      "45/45 [==============================] - 11s 252ms/step - loss: 0.8123 - accuracy: 0.6969 - val_loss: 1.2636 - val_accuracy: 0.5094\n",
      "Epoch 42/200\n",
      "45/45 [==============================] - 12s 256ms/step - loss: 0.8079 - accuracy: 0.7129 - val_loss: 1.1918 - val_accuracy: 0.5281\n",
      "Epoch 43/200\n",
      "45/45 [==============================] - 11s 250ms/step - loss: 0.8138 - accuracy: 0.7131 - val_loss: 1.2635 - val_accuracy: 0.5250\n",
      "Epoch 44/200\n",
      "45/45 [==============================] - 12s 261ms/step - loss: 0.7617 - accuracy: 0.7165 - val_loss: 1.1824 - val_accuracy: 0.5641\n",
      "Epoch 45/200\n",
      "45/45 [==============================] - 12s 256ms/step - loss: 0.8435 - accuracy: 0.6781 - val_loss: 1.1732 - val_accuracy: 0.5453\n",
      "Epoch 46/200\n",
      "45/45 [==============================] - 11s 249ms/step - loss: 0.7663 - accuracy: 0.7035 - val_loss: 1.3283 - val_accuracy: 0.5063\n",
      "Epoch 47/200\n",
      "45/45 [==============================] - 12s 259ms/step - loss: 0.7774 - accuracy: 0.6964 - val_loss: 1.2587 - val_accuracy: 0.5312\n",
      "Epoch 48/200\n",
      "45/45 [==============================] - 11s 250ms/step - loss: 0.7754 - accuracy: 0.7019 - val_loss: 1.2495 - val_accuracy: 0.5312\n",
      "Epoch 49/200\n",
      "45/45 [==============================] - 11s 252ms/step - loss: 0.7403 - accuracy: 0.7223 - val_loss: 1.1628 - val_accuracy: 0.5625\n",
      "Epoch 50/200\n",
      "45/45 [==============================] - 13s 286ms/step - loss: 0.7400 - accuracy: 0.7415 - val_loss: 1.1922 - val_accuracy: 0.5406\n",
      "Epoch 51/200\n",
      "45/45 [==============================] - 11s 248ms/step - loss: 0.7599 - accuracy: 0.7171 - val_loss: 1.2214 - val_accuracy: 0.5359\n",
      "Epoch 52/200\n",
      "45/45 [==============================] - 11s 254ms/step - loss: 0.7859 - accuracy: 0.7051 - val_loss: 1.3626 - val_accuracy: 0.4938\n",
      "Epoch 53/200\n",
      "45/45 [==============================] - 13s 296ms/step - loss: 0.7784 - accuracy: 0.7087 - val_loss: 1.2967 - val_accuracy: 0.5156\n",
      "Epoch 54/200\n",
      "45/45 [==============================] - 14s 322ms/step - loss: 0.7216 - accuracy: 0.7275 - val_loss: 1.2857 - val_accuracy: 0.5297\n",
      "Epoch 55/200\n",
      "45/45 [==============================] - 14s 303ms/step - loss: 0.7360 - accuracy: 0.7239 - val_loss: 1.3366 - val_accuracy: 0.5125\n",
      "Epoch 56/200\n",
      "45/45 [==============================] - 12s 257ms/step - loss: 0.6824 - accuracy: 0.7438 - val_loss: 1.2619 - val_accuracy: 0.5453\n",
      "Epoch 57/200\n"
     ]
    },
    {
     "name": "stdout",
     "output_type": "stream",
     "text": [
      "45/45 [==============================] - 12s 259ms/step - loss: 0.7176 - accuracy: 0.7301 - val_loss: 1.2402 - val_accuracy: 0.5391\n",
      "Epoch 58/200\n",
      "45/45 [==============================] - 11s 256ms/step - loss: 0.7302 - accuracy: 0.7223 - val_loss: 1.2632 - val_accuracy: 0.5266\n",
      "Epoch 59/200\n",
      "45/45 [==============================] - 12s 257ms/step - loss: 0.7067 - accuracy: 0.7358 - val_loss: 1.2381 - val_accuracy: 0.5312\n",
      "Epoch 60/200\n",
      "45/45 [==============================] - 12s 260ms/step - loss: 0.7159 - accuracy: 0.7205 - val_loss: 1.3130 - val_accuracy: 0.5188\n",
      "Epoch 61/200\n",
      "45/45 [==============================] - 12s 276ms/step - loss: 0.6964 - accuracy: 0.7412 - val_loss: 1.3648 - val_accuracy: 0.5000\n",
      "Epoch 62/200\n",
      "45/45 [==============================] - 11s 252ms/step - loss: 0.6709 - accuracy: 0.7460 - val_loss: 1.2069 - val_accuracy: 0.5562\n",
      "Epoch 63/200\n",
      "45/45 [==============================] - 11s 248ms/step - loss: 0.7286 - accuracy: 0.7214 - val_loss: 1.2579 - val_accuracy: 0.5547\n",
      "Epoch 64/200\n",
      "45/45 [==============================] - 11s 251ms/step - loss: 0.6687 - accuracy: 0.7401 - val_loss: 1.1988 - val_accuracy: 0.5656\n",
      "Epoch 65/200\n",
      "45/45 [==============================] - 11s 255ms/step - loss: 0.6693 - accuracy: 0.7572 - val_loss: 1.2426 - val_accuracy: 0.5484\n",
      "Epoch 66/200\n",
      "45/45 [==============================] - 11s 248ms/step - loss: 0.6204 - accuracy: 0.7806 - val_loss: 1.2675 - val_accuracy: 0.5469\n",
      "Epoch 67/200\n",
      "45/45 [==============================] - 11s 253ms/step - loss: 0.6457 - accuracy: 0.7681 - val_loss: 1.2348 - val_accuracy: 0.5594\n",
      "Epoch 68/200\n",
      "45/45 [==============================] - 11s 255ms/step - loss: 0.6513 - accuracy: 0.7719 - val_loss: 1.5728 - val_accuracy: 0.4953\n",
      "Epoch 69/200\n",
      "45/45 [==============================] - 11s 250ms/step - loss: 0.6907 - accuracy: 0.7431 - val_loss: 1.2396 - val_accuracy: 0.5562\n",
      "Epoch 70/200\n",
      "45/45 [==============================] - 11s 252ms/step - loss: 0.6686 - accuracy: 0.7423 - val_loss: 1.2966 - val_accuracy: 0.5375\n",
      "Epoch 71/200\n",
      "45/45 [==============================] - 11s 252ms/step - loss: 0.6136 - accuracy: 0.7914 - val_loss: 1.3201 - val_accuracy: 0.5297\n",
      "Epoch 72/200\n",
      "45/45 [==============================] - 11s 254ms/step - loss: 0.6217 - accuracy: 0.7755 - val_loss: 1.2267 - val_accuracy: 0.5469\n",
      "Epoch 73/200\n",
      "45/45 [==============================] - 12s 258ms/step - loss: 0.6457 - accuracy: 0.7731 - val_loss: 1.2588 - val_accuracy: 0.5750\n",
      "Epoch 74/200\n",
      "45/45 [==============================] - 11s 253ms/step - loss: 0.5938 - accuracy: 0.7806 - val_loss: 1.3603 - val_accuracy: 0.5312\n",
      "Epoch 75/200\n",
      "45/45 [==============================] - 11s 255ms/step - loss: 0.5890 - accuracy: 0.7982 - val_loss: 1.2394 - val_accuracy: 0.5609\n",
      "Epoch 76/200\n",
      "45/45 [==============================] - 11s 252ms/step - loss: 0.5499 - accuracy: 0.7998 - val_loss: 1.2923 - val_accuracy: 0.5531\n",
      "Epoch 77/200\n",
      "45/45 [==============================] - 11s 252ms/step - loss: 0.6026 - accuracy: 0.7687 - val_loss: 1.3501 - val_accuracy: 0.5266\n",
      "Epoch 78/200\n",
      "45/45 [==============================] - 12s 260ms/step - loss: 0.6083 - accuracy: 0.7856 - val_loss: 1.3071 - val_accuracy: 0.5406\n",
      "Epoch 79/200\n",
      "45/45 [==============================] - 11s 253ms/step - loss: 0.5447 - accuracy: 0.8137 - val_loss: 1.3286 - val_accuracy: 0.5453\n",
      "Epoch 80/200\n",
      "45/45 [==============================] - 11s 249ms/step - loss: 0.5782 - accuracy: 0.8151 - val_loss: 1.3322 - val_accuracy: 0.5516\n",
      "Epoch 81/200\n",
      "45/45 [==============================] - 11s 248ms/step - loss: 0.6055 - accuracy: 0.7798 - val_loss: 1.3725 - val_accuracy: 0.5359\n",
      "Epoch 82/200\n",
      "45/45 [==============================] - 11s 252ms/step - loss: 0.5317 - accuracy: 0.8162 - val_loss: 1.2455 - val_accuracy: 0.5750\n",
      "Epoch 83/200\n",
      "45/45 [==============================] - 11s 252ms/step - loss: 0.5231 - accuracy: 0.8148 - val_loss: 1.3490 - val_accuracy: 0.5516\n",
      "Epoch 84/200\n",
      "45/45 [==============================] - 12s 259ms/step - loss: 0.5535 - accuracy: 0.8002 - val_loss: 1.3651 - val_accuracy: 0.5359\n",
      "Epoch 85/200\n",
      "45/45 [==============================] - 11s 250ms/step - loss: 0.5118 - accuracy: 0.8146 - val_loss: 1.3775 - val_accuracy: 0.5188\n",
      "Epoch 86/200\n",
      "45/45 [==============================] - 11s 250ms/step - loss: 0.5685 - accuracy: 0.7961 - val_loss: 1.6124 - val_accuracy: 0.4984\n",
      "Epoch 87/200\n",
      "45/45 [==============================] - 11s 253ms/step - loss: 0.5290 - accuracy: 0.8103 - val_loss: 1.3954 - val_accuracy: 0.5172\n",
      "Epoch 88/200\n",
      "45/45 [==============================] - 12s 256ms/step - loss: 0.5457 - accuracy: 0.8169 - val_loss: 1.2799 - val_accuracy: 0.5375\n",
      "Epoch 89/200\n",
      "45/45 [==============================] - 11s 254ms/step - loss: 0.5221 - accuracy: 0.8034 - val_loss: 1.5020 - val_accuracy: 0.5156\n",
      "Epoch 90/200\n",
      "45/45 [==============================] - 12s 256ms/step - loss: 0.4713 - accuracy: 0.8392 - val_loss: 1.3108 - val_accuracy: 0.5516\n",
      "Epoch 91/200\n",
      "45/45 [==============================] - 12s 259ms/step - loss: 0.4703 - accuracy: 0.8329 - val_loss: 1.2757 - val_accuracy: 0.5844\n",
      "Epoch 92/200\n",
      "45/45 [==============================] - 12s 256ms/step - loss: 0.5066 - accuracy: 0.8166 - val_loss: 1.3321 - val_accuracy: 0.5734\n",
      "Epoch 93/200\n",
      "45/45 [==============================] - 11s 253ms/step - loss: 0.4706 - accuracy: 0.8244 - val_loss: 1.4217 - val_accuracy: 0.5422\n",
      "Epoch 94/200\n",
      "45/45 [==============================] - 12s 261ms/step - loss: 0.5084 - accuracy: 0.8232 - val_loss: 1.3120 - val_accuracy: 0.5578\n",
      "Epoch 95/200\n",
      "45/45 [==============================] - 12s 254ms/step - loss: 0.4389 - accuracy: 0.8496 - val_loss: 1.3961 - val_accuracy: 0.5437\n",
      "Epoch 96/200\n",
      "45/45 [==============================] - 12s 261ms/step - loss: 0.4477 - accuracy: 0.8370 - val_loss: 1.3147 - val_accuracy: 0.5953\n",
      "Epoch 97/200\n",
      "45/45 [==============================] - 11s 253ms/step - loss: 0.4783 - accuracy: 0.8298 - val_loss: 1.3994 - val_accuracy: 0.5531\n",
      "Epoch 98/200\n",
      "45/45 [==============================] - 12s 276ms/step - loss: 0.4404 - accuracy: 0.8460 - val_loss: 1.4452 - val_accuracy: 0.5422\n",
      "Epoch 99/200\n",
      "45/45 [==============================] - 11s 254ms/step - loss: 0.4547 - accuracy: 0.8361 - val_loss: 1.4174 - val_accuracy: 0.5391\n",
      "Epoch 100/200\n",
      "45/45 [==============================] - 11s 255ms/step - loss: 0.4549 - accuracy: 0.8464 - val_loss: 1.5608 - val_accuracy: 0.5094\n",
      "Epoch 101/200\n",
      "45/45 [==============================] - 12s 267ms/step - loss: 0.4678 - accuracy: 0.8483 - val_loss: 1.3987 - val_accuracy: 0.5281\n",
      "Epoch 102/200\n",
      "45/45 [==============================] - 12s 258ms/step - loss: 0.4019 - accuracy: 0.8745 - val_loss: 1.3175 - val_accuracy: 0.5875\n",
      "Epoch 103/200\n",
      "45/45 [==============================] - 11s 248ms/step - loss: 0.3979 - accuracy: 0.8631 - val_loss: 1.6345 - val_accuracy: 0.5234\n",
      "Epoch 104/200\n",
      "45/45 [==============================] - 12s 256ms/step - loss: 0.4589 - accuracy: 0.8505 - val_loss: 1.4692 - val_accuracy: 0.5422\n",
      "Epoch 105/200\n",
      "45/45 [==============================] - 11s 254ms/step - loss: 0.3844 - accuracy: 0.8675 - val_loss: 1.4420 - val_accuracy: 0.5437\n",
      "Epoch 106/200\n",
      "45/45 [==============================] - 17s 375ms/step - loss: 0.3919 - accuracy: 0.8613 - val_loss: 1.6217 - val_accuracy: 0.5141\n",
      "Epoch 107/200\n",
      "45/45 [==============================] - 17s 378ms/step - loss: 0.3629 - accuracy: 0.8714 - val_loss: 1.3625 - val_accuracy: 0.5891\n",
      "Epoch 108/200\n",
      "45/45 [==============================] - 16s 364ms/step - loss: 0.3706 - accuracy: 0.8727 - val_loss: 1.4599 - val_accuracy: 0.5359\n",
      "Epoch 109/200\n",
      "45/45 [==============================] - 16s 360ms/step - loss: 0.4173 - accuracy: 0.8503 - val_loss: 1.5468 - val_accuracy: 0.5297\n",
      "Epoch 110/200\n",
      "45/45 [==============================] - 16s 364ms/step - loss: 0.3608 - accuracy: 0.8911 - val_loss: 1.5354 - val_accuracy: 0.5406\n",
      "Epoch 111/200\n",
      "45/45 [==============================] - 16s 362ms/step - loss: 0.3627 - accuracy: 0.8765 - val_loss: 1.5314 - val_accuracy: 0.5312\n",
      "Epoch 112/200\n",
      "45/45 [==============================] - 16s 363ms/step - loss: 0.3963 - accuracy: 0.8644 - val_loss: 1.4462 - val_accuracy: 0.5625\n",
      "Epoch 113/200\n"
     ]
    },
    {
     "name": "stdout",
     "output_type": "stream",
     "text": [
      "45/45 [==============================] - 17s 368ms/step - loss: 0.3533 - accuracy: 0.8829 - val_loss: 1.5286 - val_accuracy: 0.5344\n",
      "Epoch 114/200\n",
      "45/45 [==============================] - 17s 370ms/step - loss: 0.3231 - accuracy: 0.8766 - val_loss: 1.5389 - val_accuracy: 0.5172\n",
      "Epoch 115/200\n",
      "45/45 [==============================] - 17s 368ms/step - loss: 0.3262 - accuracy: 0.8907 - val_loss: 1.6632 - val_accuracy: 0.5141\n",
      "Epoch 116/200\n",
      "45/45 [==============================] - 16s 362ms/step - loss: 0.3339 - accuracy: 0.8903 - val_loss: 1.4334 - val_accuracy: 0.5500\n",
      "Epoch 117/200\n",
      "45/45 [==============================] - 17s 368ms/step - loss: 0.3560 - accuracy: 0.8721 - val_loss: 1.4005 - val_accuracy: 0.5719\n",
      "Epoch 118/200\n",
      "45/45 [==============================] - 16s 362ms/step - loss: 0.3022 - accuracy: 0.9026 - val_loss: 1.5551 - val_accuracy: 0.5500\n",
      "Epoch 119/200\n",
      "45/45 [==============================] - 17s 372ms/step - loss: 0.3402 - accuracy: 0.8966 - val_loss: 1.5077 - val_accuracy: 0.5594\n",
      "Epoch 120/200\n",
      "45/45 [==============================] - 16s 364ms/step - loss: 0.3013 - accuracy: 0.8942 - val_loss: 1.5456 - val_accuracy: 0.5547\n",
      "Epoch 121/200\n",
      "45/45 [==============================] - 17s 366ms/step - loss: 0.3097 - accuracy: 0.8924 - val_loss: 1.4586 - val_accuracy: 0.5719\n",
      "Epoch 122/200\n",
      "45/45 [==============================] - 16s 362ms/step - loss: 0.3369 - accuracy: 0.8798 - val_loss: 1.7747 - val_accuracy: 0.5328\n",
      "Epoch 123/200\n",
      "45/45 [==============================] - 16s 363ms/step - loss: 0.3302 - accuracy: 0.8812 - val_loss: 1.5873 - val_accuracy: 0.5703\n",
      "Epoch 124/200\n",
      "45/45 [==============================] - 16s 363ms/step - loss: 0.2813 - accuracy: 0.9164 - val_loss: 1.5691 - val_accuracy: 0.5625\n",
      "Epoch 125/200\n",
      "45/45 [==============================] - 16s 363ms/step - loss: 0.3138 - accuracy: 0.9137 - val_loss: 1.8936 - val_accuracy: 0.5000\n",
      "Epoch 126/200\n",
      "45/45 [==============================] - 16s 366ms/step - loss: 0.3106 - accuracy: 0.9050 - val_loss: 1.4766 - val_accuracy: 0.5750\n",
      "Epoch 127/200\n",
      "45/45 [==============================] - 16s 360ms/step - loss: 0.3602 - accuracy: 0.8583 - val_loss: 1.6201 - val_accuracy: 0.5375\n",
      "Epoch 128/200\n",
      "45/45 [==============================] - 16s 363ms/step - loss: 0.2767 - accuracy: 0.9137 - val_loss: 1.6354 - val_accuracy: 0.5312\n",
      "Epoch 129/200\n",
      "45/45 [==============================] - 16s 360ms/step - loss: 0.3101 - accuracy: 0.9028 - val_loss: 1.5513 - val_accuracy: 0.5625\n",
      "Epoch 130/200\n",
      "45/45 [==============================] - 16s 364ms/step - loss: 0.2959 - accuracy: 0.9093 - val_loss: 1.6979 - val_accuracy: 0.5484\n",
      "Epoch 131/200\n",
      "45/45 [==============================] - 17s 371ms/step - loss: 0.2564 - accuracy: 0.9322 - val_loss: 1.5678 - val_accuracy: 0.5813\n",
      "Epoch 132/200\n",
      "45/45 [==============================] - 16s 364ms/step - loss: 0.2944 - accuracy: 0.9182 - val_loss: 1.7838 - val_accuracy: 0.5156\n",
      "Epoch 133/200\n",
      "45/45 [==============================] - 16s 361ms/step - loss: 0.3035 - accuracy: 0.9073 - val_loss: 1.7083 - val_accuracy: 0.5188\n",
      "Epoch 134/200\n",
      "45/45 [==============================] - 16s 365ms/step - loss: 0.2450 - accuracy: 0.9260 - val_loss: 1.9640 - val_accuracy: 0.4938\n",
      "Epoch 135/200\n",
      "45/45 [==============================] - 17s 367ms/step - loss: 0.2809 - accuracy: 0.9062 - val_loss: 1.6764 - val_accuracy: 0.5500\n",
      "Epoch 136/200\n",
      "45/45 [==============================] - 19s 420ms/step - loss: 0.2460 - accuracy: 0.9240 - val_loss: 1.6879 - val_accuracy: 0.5344\n",
      "Epoch 137/200\n",
      "45/45 [==============================] - 18s 390ms/step - loss: 0.2376 - accuracy: 0.9295 - val_loss: 1.6523 - val_accuracy: 0.5578\n",
      "Epoch 138/200\n",
      "45/45 [==============================] - 16s 362ms/step - loss: 0.2228 - accuracy: 0.9215 - val_loss: 1.7615 - val_accuracy: 0.5406\n",
      "Epoch 139/200\n",
      "45/45 [==============================] - 16s 363ms/step - loss: 0.3308 - accuracy: 0.8874 - val_loss: 1.6183 - val_accuracy: 0.5531\n",
      "Epoch 140/200\n",
      "45/45 [==============================] - 16s 366ms/step - loss: 0.2409 - accuracy: 0.9340 - val_loss: 1.9803 - val_accuracy: 0.4750\n",
      "Epoch 141/200\n",
      "45/45 [==============================] - 16s 363ms/step - loss: 0.2404 - accuracy: 0.9132 - val_loss: 1.7366 - val_accuracy: 0.5453\n",
      "Epoch 142/200\n",
      "45/45 [==============================] - 17s 382ms/step - loss: 0.2184 - accuracy: 0.9295 - val_loss: 1.7549 - val_accuracy: 0.5266\n",
      "Epoch 143/200\n",
      "45/45 [==============================] - 17s 387ms/step - loss: 0.2347 - accuracy: 0.9367 - val_loss: 1.7041 - val_accuracy: 0.5625\n",
      "Epoch 144/200\n",
      "45/45 [==============================] - 17s 367ms/step - loss: 0.2088 - accuracy: 0.9364 - val_loss: 1.7312 - val_accuracy: 0.5594\n",
      "Epoch 145/200\n",
      "45/45 [==============================] - 16s 364ms/step - loss: 0.2331 - accuracy: 0.9196 - val_loss: 1.6144 - val_accuracy: 0.5844\n",
      "Epoch 146/200\n",
      "45/45 [==============================] - 17s 367ms/step - loss: 0.2205 - accuracy: 0.9251 - val_loss: 1.8251 - val_accuracy: 0.5063\n",
      "Epoch 147/200\n",
      "45/45 [==============================] - 16s 363ms/step - loss: 0.1754 - accuracy: 0.9564 - val_loss: 1.6644 - val_accuracy: 0.5797\n",
      "Epoch 148/200\n",
      "45/45 [==============================] - 16s 363ms/step - loss: 0.2519 - accuracy: 0.9259 - val_loss: 1.7026 - val_accuracy: 0.5719\n",
      "Epoch 149/200\n",
      "45/45 [==============================] - 16s 364ms/step - loss: 0.1812 - accuracy: 0.9448 - val_loss: 1.7603 - val_accuracy: 0.5516\n",
      "Epoch 150/200\n",
      "45/45 [==============================] - 16s 365ms/step - loss: 0.1714 - accuracy: 0.9590 - val_loss: 1.6948 - val_accuracy: 0.5813\n",
      "Epoch 151/200\n",
      "45/45 [==============================] - 17s 368ms/step - loss: 0.1827 - accuracy: 0.9483 - val_loss: 2.0143 - val_accuracy: 0.4953\n",
      "Epoch 152/200\n",
      "45/45 [==============================] - 16s 361ms/step - loss: 0.1773 - accuracy: 0.9436 - val_loss: 1.7428 - val_accuracy: 0.5625\n",
      "Epoch 153/200\n",
      "45/45 [==============================] - 16s 364ms/step - loss: 0.1778 - accuracy: 0.9463 - val_loss: 1.9050 - val_accuracy: 0.5625\n",
      "Epoch 154/200\n",
      "45/45 [==============================] - 17s 373ms/step - loss: 0.1836 - accuracy: 0.9432 - val_loss: 1.7427 - val_accuracy: 0.5781\n",
      "Epoch 155/200\n",
      "45/45 [==============================] - 23s 518ms/step - loss: 0.1797 - accuracy: 0.9486 - val_loss: 1.8371 - val_accuracy: 0.5562\n",
      "Epoch 156/200\n",
      "45/45 [==============================] - 18s 404ms/step - loss: 0.1656 - accuracy: 0.9534 - val_loss: 1.7491 - val_accuracy: 0.5734\n",
      "Epoch 157/200\n",
      "45/45 [==============================] - 17s 373ms/step - loss: 0.1763 - accuracy: 0.9564 - val_loss: 1.8136 - val_accuracy: 0.5562\n",
      "Epoch 158/200\n",
      "45/45 [==============================] - 17s 370ms/step - loss: 0.1812 - accuracy: 0.9521 - val_loss: 1.7436 - val_accuracy: 0.5625\n",
      "Epoch 159/200\n",
      "45/45 [==============================] - 16s 365ms/step - loss: 0.1597 - accuracy: 0.9542 - val_loss: 1.9517 - val_accuracy: 0.5312\n",
      "Epoch 160/200\n",
      "45/45 [==============================] - 16s 363ms/step - loss: 0.2011 - accuracy: 0.9371 - val_loss: 1.9520 - val_accuracy: 0.5250\n",
      "Epoch 161/200\n",
      "45/45 [==============================] - 16s 363ms/step - loss: 0.1577 - accuracy: 0.9549 - val_loss: 1.7648 - val_accuracy: 0.5578\n",
      "Epoch 162/200\n",
      "45/45 [==============================] - 16s 363ms/step - loss: 0.1529 - accuracy: 0.9619 - val_loss: 1.8846 - val_accuracy: 0.5547\n",
      "Epoch 163/200\n",
      "45/45 [==============================] - 16s 364ms/step - loss: 0.1911 - accuracy: 0.9404 - val_loss: 1.8782 - val_accuracy: 0.5578\n",
      "Epoch 164/200\n",
      "45/45 [==============================] - 16s 361ms/step - loss: 0.1471 - accuracy: 0.9617 - val_loss: 1.9164 - val_accuracy: 0.5516\n",
      "Epoch 165/200\n",
      "45/45 [==============================] - 16s 363ms/step - loss: 0.1541 - accuracy: 0.9510 - val_loss: 1.8748 - val_accuracy: 0.5688\n",
      "Epoch 166/200\n",
      "45/45 [==============================] - 16s 360ms/step - loss: 0.1571 - accuracy: 0.9571 - val_loss: 1.9332 - val_accuracy: 0.5625\n",
      "Epoch 167/200\n",
      "45/45 [==============================] - 17s 377ms/step - loss: 0.1901 - accuracy: 0.9448 - val_loss: 1.9121 - val_accuracy: 0.5547\n",
      "Epoch 168/200\n",
      "45/45 [==============================] - 16s 363ms/step - loss: 0.1699 - accuracy: 0.9413 - val_loss: 1.7136 - val_accuracy: 0.5797\n",
      "Epoch 169/200\n"
     ]
    },
    {
     "name": "stdout",
     "output_type": "stream",
     "text": [
      "45/45 [==============================] - 16s 365ms/step - loss: 0.1828 - accuracy: 0.9407 - val_loss: 1.8144 - val_accuracy: 0.5625\n",
      "Epoch 170/200\n",
      "45/45 [==============================] - 19s 413ms/step - loss: 0.1072 - accuracy: 0.9790 - val_loss: 1.8251 - val_accuracy: 0.5625\n",
      "Epoch 171/200\n",
      "45/45 [==============================] - 18s 404ms/step - loss: 0.1249 - accuracy: 0.9643 - val_loss: 1.8873 - val_accuracy: 0.5719\n",
      "Epoch 172/200\n",
      "45/45 [==============================] - 14s 317ms/step - loss: 0.1749 - accuracy: 0.9369 - val_loss: 1.8456 - val_accuracy: 0.5656\n",
      "Epoch 173/200\n",
      "45/45 [==============================] - 12s 257ms/step - loss: 0.1164 - accuracy: 0.9767 - val_loss: 1.8514 - val_accuracy: 0.5641\n",
      "Epoch 174/200\n",
      "45/45 [==============================] - 11s 249ms/step - loss: 0.1902 - accuracy: 0.9395 - val_loss: 1.8572 - val_accuracy: 0.5672\n",
      "Epoch 175/200\n",
      "45/45 [==============================] - 11s 255ms/step - loss: 0.1117 - accuracy: 0.9760 - val_loss: 1.9457 - val_accuracy: 0.5734\n",
      "Epoch 176/200\n",
      "45/45 [==============================] - 11s 252ms/step - loss: 0.1014 - accuracy: 0.9822 - val_loss: 1.8182 - val_accuracy: 0.5813\n",
      "Epoch 177/200\n",
      "45/45 [==============================] - 12s 260ms/step - loss: 0.1094 - accuracy: 0.9708 - val_loss: 1.8969 - val_accuracy: 0.5813\n",
      "Epoch 178/200\n",
      "45/45 [==============================] - 11s 252ms/step - loss: 0.1329 - accuracy: 0.9651 - val_loss: 1.9234 - val_accuracy: 0.5578\n",
      "Epoch 179/200\n",
      "45/45 [==============================] - 11s 254ms/step - loss: 0.0912 - accuracy: 0.9815 - val_loss: 2.0223 - val_accuracy: 0.5437\n",
      "Epoch 180/200\n",
      "45/45 [==============================] - 11s 250ms/step - loss: 0.1236 - accuracy: 0.9673 - val_loss: 1.9152 - val_accuracy: 0.5609\n",
      "Epoch 181/200\n",
      "45/45 [==============================] - 12s 259ms/step - loss: 0.2563 - accuracy: 0.9199 - val_loss: 1.8099 - val_accuracy: 0.5656\n",
      "Epoch 182/200\n",
      "45/45 [==============================] - 12s 255ms/step - loss: 0.0970 - accuracy: 0.9772 - val_loss: 1.8208 - val_accuracy: 0.5641\n",
      "Epoch 183/200\n",
      "45/45 [==============================] - 12s 256ms/step - loss: 0.0869 - accuracy: 0.9849 - val_loss: 2.0021 - val_accuracy: 0.5359\n",
      "Epoch 184/200\n",
      "45/45 [==============================] - 11s 251ms/step - loss: 0.0985 - accuracy: 0.9728 - val_loss: 2.0364 - val_accuracy: 0.5375\n",
      "Epoch 185/200\n",
      "45/45 [==============================] - 11s 249ms/step - loss: 0.1277 - accuracy: 0.9598 - val_loss: 2.0432 - val_accuracy: 0.5484\n",
      "Epoch 186/200\n",
      "45/45 [==============================] - 11s 249ms/step - loss: 0.1029 - accuracy: 0.9721 - val_loss: 1.9865 - val_accuracy: 0.5609\n",
      "Epoch 187/200\n",
      "45/45 [==============================] - 12s 259ms/step - loss: 0.1073 - accuracy: 0.9735 - val_loss: 1.9775 - val_accuracy: 0.5703\n",
      "Epoch 188/200\n",
      "45/45 [==============================] - 11s 251ms/step - loss: 0.0904 - accuracy: 0.9817 - val_loss: 1.8710 - val_accuracy: 0.5625\n",
      "Epoch 189/200\n",
      "45/45 [==============================] - 11s 253ms/step - loss: 0.0874 - accuracy: 0.9802 - val_loss: 1.9968 - val_accuracy: 0.5766\n",
      "Epoch 190/200\n",
      "45/45 [==============================] - 11s 252ms/step - loss: 0.1004 - accuracy: 0.9683 - val_loss: 2.0032 - val_accuracy: 0.5766\n",
      "Epoch 191/200\n",
      "45/45 [==============================] - 12s 259ms/step - loss: 0.0795 - accuracy: 0.9795 - val_loss: 2.1083 - val_accuracy: 0.5437\n",
      "Epoch 192/200\n",
      "45/45 [==============================] - 12s 257ms/step - loss: 0.0619 - accuracy: 0.9906 - val_loss: 2.4825 - val_accuracy: 0.5188\n",
      "Epoch 193/200\n",
      "45/45 [==============================] - 12s 256ms/step - loss: 0.1003 - accuracy: 0.9711 - val_loss: 1.9407 - val_accuracy: 0.5562\n",
      "Epoch 194/200\n",
      "45/45 [==============================] - 12s 264ms/step - loss: 0.0852 - accuracy: 0.9786 - val_loss: 2.1178 - val_accuracy: 0.5641\n",
      "Epoch 195/200\n",
      "45/45 [==============================] - 13s 280ms/step - loss: 0.1132 - accuracy: 0.9669 - val_loss: 2.0486 - val_accuracy: 0.5641\n",
      "Epoch 196/200\n",
      "45/45 [==============================] - 13s 278ms/step - loss: 0.0695 - accuracy: 0.9897 - val_loss: 2.0225 - val_accuracy: 0.5719\n",
      "Epoch 197/200\n",
      "45/45 [==============================] - 12s 275ms/step - loss: 0.0912 - accuracy: 0.9792 - val_loss: 2.1147 - val_accuracy: 0.5375\n",
      "Epoch 198/200\n",
      "45/45 [==============================] - 13s 278ms/step - loss: 0.1014 - accuracy: 0.9691 - val_loss: 2.0226 - val_accuracy: 0.5688\n",
      "Epoch 199/200\n",
      "45/45 [==============================] - 12s 266ms/step - loss: 0.1092 - accuracy: 0.9725 - val_loss: 2.1315 - val_accuracy: 0.5609\n",
      "Epoch 200/200\n",
      "45/45 [==============================] - 11s 251ms/step - loss: 0.0788 - accuracy: 0.9816 - val_loss: 2.0925 - val_accuracy: 0.5531\n"
     ]
    },
    {
     "data": {
      "text/plain": [
       "<tensorflow.python.keras.callbacks.History at 0x1df1f182240>"
      ]
     },
     "execution_count": 11,
     "metadata": {},
     "output_type": "execute_result"
    }
   ],
   "source": [
    "model.fit_generator(x_train ,steps_per_epoch = 45,epochs=200, validation_data=x_test ,validation_steps = 20)"
   ]
  },
  {
   "cell_type": "code",
   "execution_count": 12,
   "metadata": {},
   "outputs": [],
   "source": [
    "model.save(\"flowers.h5\")"
   ]
  },
  {
   "cell_type": "code",
   "execution_count": 13,
   "metadata": {},
   "outputs": [],
   "source": [
    "from tensorflow.keras.models import load_model\n",
    "from tensorflow.keras.preprocessing import image\n",
    "import cv2\n",
    "import numpy as np"
   ]
  },
  {
   "cell_type": "code",
   "execution_count": 14,
   "metadata": {},
   "outputs": [],
   "source": [
    "index=[\"daisy\",\"dandelion\",\"rose\",\"sunflower\",\"tulip\"]"
   ]
  },
  {
   "cell_type": "code",
   "execution_count": 15,
   "metadata": {},
   "outputs": [],
   "source": [
    "model=load_model(\"flowers.h5\")"
   ]
  },
  {
   "cell_type": "code",
   "execution_count": 17,
   "metadata": {},
   "outputs": [],
   "source": [
    "img=image.load_img(\"rose.jpg\",target_size=(64,64))"
   ]
  },
  {
   "cell_type": "code",
   "execution_count": 18,
   "metadata": {},
   "outputs": [
    {
     "data": {
      "text/plain": [
       "PIL.Image.Image"
      ]
     },
     "execution_count": 18,
     "metadata": {},
     "output_type": "execute_result"
    }
   ],
   "source": [
    "type(img)"
   ]
  },
  {
   "cell_type": "code",
   "execution_count": 19,
   "metadata": {},
   "outputs": [],
   "source": [
    "x=image.img_to_array(img)"
   ]
  },
  {
   "cell_type": "code",
   "execution_count": 20,
   "metadata": {},
   "outputs": [
    {
     "data": {
      "text/plain": [
       "numpy.ndarray"
      ]
     },
     "execution_count": 20,
     "metadata": {},
     "output_type": "execute_result"
    }
   ],
   "source": [
    "type(x)"
   ]
  },
  {
   "cell_type": "code",
   "execution_count": 21,
   "metadata": {},
   "outputs": [
    {
     "data": {
      "text/plain": [
       "(64, 64, 3)"
      ]
     },
     "execution_count": 21,
     "metadata": {},
     "output_type": "execute_result"
    }
   ],
   "source": [
    "x.shape"
   ]
  },
  {
   "cell_type": "code",
   "execution_count": 22,
   "metadata": {},
   "outputs": [],
   "source": [
    "x=np.expand_dims(x,axis=0)"
   ]
  },
  {
   "cell_type": "code",
   "execution_count": 23,
   "metadata": {},
   "outputs": [
    {
     "data": {
      "text/plain": [
       "(1, 64, 64, 3)"
      ]
     },
     "execution_count": 23,
     "metadata": {},
     "output_type": "execute_result"
    }
   ],
   "source": [
    "x.shape"
   ]
  },
  {
   "cell_type": "code",
   "execution_count": 24,
   "metadata": {},
   "outputs": [
    {
     "name": "stderr",
     "output_type": "stream",
     "text": [
      "C:\\Users\\DELL\\Anaconda3\\lib\\site-packages\\tensorflow\\python\\keras\\engine\\sequential.py:450: UserWarning: `model.predict_classes()` is deprecated and will be removed after 2021-01-01. Please use instead:* `np.argmax(model.predict(x), axis=-1)`,   if your model does multi-class classification   (e.g. if it uses a `softmax` last-layer activation).* `(model.predict(x) > 0.5).astype(\"int32\")`,   if your model does binary classification   (e.g. if it uses a `sigmoid` last-layer activation).\n",
      "  warnings.warn('`model.predict_classes()` is deprecated and '\n"
     ]
    }
   ],
   "source": [
    "pred=model.predict_classes(x)"
   ]
  },
  {
   "cell_type": "code",
   "execution_count": 25,
   "metadata": {},
   "outputs": [
    {
     "data": {
      "text/plain": [
       "2"
      ]
     },
     "execution_count": 25,
     "metadata": {},
     "output_type": "execute_result"
    }
   ],
   "source": [
    "pred[0]"
   ]
  },
  {
   "cell_type": "code",
   "execution_count": 26,
   "metadata": {},
   "outputs": [
    {
     "name": "stdout",
     "output_type": "stream",
     "text": [
      "rose\n"
     ]
    }
   ],
   "source": [
    "print(index[pred[0]])"
   ]
  },
  {
   "cell_type": "code",
   "execution_count": null,
   "metadata": {},
   "outputs": [],
   "source": []
  }
 ],
 "metadata": {
  "kernelspec": {
   "display_name": "Python 3",
   "language": "python",
   "name": "python3"
  },
  "language_info": {
   "codemirror_mode": {
    "name": "ipython",
    "version": 3
   },
   "file_extension": ".py",
   "mimetype": "text/x-python",
   "name": "python",
   "nbconvert_exporter": "python",
   "pygments_lexer": "ipython3",
   "version": "3.7.3"
  }
 },
 "nbformat": 4,
 "nbformat_minor": 2
}
